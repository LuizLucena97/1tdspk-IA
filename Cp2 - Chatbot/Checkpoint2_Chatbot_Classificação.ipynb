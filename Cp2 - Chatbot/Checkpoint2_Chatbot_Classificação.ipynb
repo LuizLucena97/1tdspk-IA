{
  "metadata": {
    "kernelspec": {
      "language": "python",
      "display_name": "Python 3",
      "name": "python3"
    },
    "language_info": {
      "pygments_lexer": "ipython3",
      "nbconvert_exporter": "python",
      "version": "3.6.4",
      "file_extension": ".py",
      "codemirror_mode": {
        "name": "ipython",
        "version": 3
      },
      "name": "python",
      "mimetype": "text/x-python"
    },
    "colab": {
      "provenance": []
    }
  },
  "nbformat_minor": 0,
  "nbformat": 4,
  "cells": [
    {
      "cell_type": "markdown",
      "source": [
        "###Checkpoint Chatbot - Classificação"
      ],
      "metadata": {
        "id": "ygA94tQKyT3S"
      }
    },
    {
      "cell_type": "markdown",
      "source": [
        "Integrantes do grupo:\n",
        "\n",
        "Nina Rebello Francisco -RM99509\n",
        "\n",
        "Camila dos Santos Cunha -RM551785\n",
        "\n",
        "Guilherme Rodrigues de Castro -RM99624\n",
        "\n",
        "Luiz Fellipe Soares de Sousa Lucena -RM551365\n",
        "\n",
        "Felipe Guedes Gonçalves -RM550906\n"
      ],
      "metadata": {
        "id": "NLHoqroCydgU"
      }
    },
    {
      "cell_type": "markdown",
      "source": [
        "## O Dataset e o Projeto - Conjunto de dados sobre as variantes tintas e brancas do vinho verde português\n",
        "<hr>\n",
        "\n",
        "### Fonte: https://www.kaggle.com/datasets/uciml/red-wine-quality-cortez-et-al-2009\n",
        "\n",
        "### Descrição:\n",
        "<p style='font-size: 18px; line-height: 2; margin: 10px 50px; text-align: justify;'>Os dois conjuntos de dados estão relacionados com variantes tintas e brancas do vinho verde português. Para mais detalhes, consultar a referência [Cortez et al., 2009]. Devido a questões de privacidade e logística, apenas variáveis físico-químicas (entradas) e sensoriais (saída) estão disponíveis (por exemplo, não há dados sobre tipos de uva, marca de vinho, preço de venda do vinho, etc.).</p>\n",
        "\n",
        "<p style='font-size: 18px; line-height: 2; margin: 10px 50px; text-align: justify;'>O objetivo deste treinamento será estimar um modelo de <b>Machine Learning</b> utilizando a técnica de <b>Regressão Linear</b> para demonstrar os impactos das variáveis disponibilizadas neste dataset sobre a relação de qualidade do vinho em virtude de sua acidez.</p>\n",
        "\n",
        "### Dados:\n",
        "<ul style='font-size: 18px; line-height: 2; text-align: justify;'>\n",
        "    <li><b>fixed acidity</b>\n",
        "    <li><b>volatile acidity</b>\n",
        "    <li><b>citric acid</b>\n",
        "    <li><b>residual sugar</b>\n",
        "    <li><b>chlorides</b>\n",
        "    <li><b>free sulfur dioxide</b>\n",
        "    <li><b>total sulfur dioxide</b>\n",
        "    <li><b>density</b>\n",
        "    <li><b>pH</b>\n",
        "    <li><b>sulphates</b>\n",
        "    <li><b>alcohol</b>\n",
        "    <li><b>quality</b>\n",
        "</ul>"
      ],
      "metadata": {
        "id": "OLnAI1FsS6jf"
      }
    },
    {
      "cell_type": "markdown",
      "source": [
        "# IMPORTANDO BIBLIOTECAS"
      ],
      "metadata": {
        "id": "LJugesybBlTo"
      }
    },
    {
      "cell_type": "code",
      "source": [
        "import pandas as pd\n",
        "\n",
        "# Pacotes para avaliação dos modelos\n",
        "from sklearn.metrics import classification_report\n",
        "from sklearn.metrics import confusion_matrix\n",
        "from sklearn.metrics import accuracy_score\n",
        "\n",
        "# Pacotes para utilização dos algoritmos KNN e Support Vector Classifier (SVC)\n",
        "from sklearn.neighbors import KNeighborsClassifier\n",
        "# https://scikit-learn.org/stable/modules/generated/sklearn.neighbors.KNeighborsClassifier.html\n",
        "\n",
        "from sklearn.svm import SVC\n",
        "# https://scikit-learn.org/stable/modules/generated/sklearn.svm.SVC.html\n",
        "\n",
        "# Pacote para conversão de colunas numéricas em colunas categóricas\n",
        "from sklearn.preprocessing import LabelEncoder\n",
        "# https://scikit-learn.org/stable/modules/generated/sklearn.preprocessing.LabelEncoder.html\n",
        "\n",
        "# Pacote para separação dos dados para treino e teste\n",
        "from sklearn.model_selection import train_test_split\n",
        "# https://scikit-learn.org/stable/modules/generated/sklearn.model_selection.train_test_split.html"
      ],
      "metadata": {
        "_uuid": "8f2839f25d086af736a60e9eeb907d3b93b6e0e5",
        "_cell_guid": "b1076dfc-b9ad-4769-8c92-a6c4dae69d19",
        "execution": {
          "iopub.status.busy": "2021-12-09T18:16:41.821762Z",
          "iopub.execute_input": "2021-12-09T18:16:41.822594Z",
          "iopub.status.idle": "2021-12-09T18:16:41.827916Z",
          "shell.execute_reply.started": "2021-12-09T18:16:41.822548Z",
          "shell.execute_reply": "2021-12-09T18:16:41.827073Z"
        },
        "trusted": true,
        "id": "z_6ZSt1CBlTp"
      },
      "execution_count": 5,
      "outputs": []
    },
    {
      "cell_type": "markdown",
      "source": [
        "# Abrindo o dataset\n",
        "*O dataset a ser utilizado já está tratado e pronto para ser utilizado*"
      ],
      "metadata": {
        "id": "RAARY3hjBlTr"
      }
    },
    {
      "cell_type": "code",
      "source": [
        "df = pd.read_csv('/content/winequality-red.csv')\n",
        "df.head()\n"
      ],
      "metadata": {
        "execution": {
          "iopub.status.busy": "2021-12-09T18:16:41.829393Z",
          "iopub.execute_input": "2021-12-09T18:16:41.829768Z",
          "iopub.status.idle": "2021-12-09T18:16:41.863197Z",
          "shell.execute_reply.started": "2021-12-09T18:16:41.829727Z",
          "shell.execute_reply": "2021-12-09T18:16:41.862438Z"
        },
        "trusted": true,
        "id": "D-83sVrqBlTs",
        "colab": {
          "base_uri": "https://localhost:8080/",
          "height": 206
        },
        "outputId": "c4f3cda8-c549-49ec-cdc5-507f07b79e20"
      },
      "execution_count": 8,
      "outputs": [
        {
          "output_type": "execute_result",
          "data": {
            "text/plain": [
              "   fixed acidity  volatile acidity  citric acid  residual sugar  chlorides  \\\n",
              "0            7.4              0.70         0.00             1.9      0.076   \n",
              "1            7.8              0.88         0.00             2.6      0.098   \n",
              "2            7.8              0.76         0.04             2.3      0.092   \n",
              "3           11.2              0.28         0.56             1.9      0.075   \n",
              "4            7.4              0.70         0.00             1.9      0.076   \n",
              "\n",
              "   free sulfur dioxide  total sulfur dioxide  density    pH  sulphates  \\\n",
              "0                 11.0                  34.0   0.9978  3.51       0.56   \n",
              "1                 25.0                  67.0   0.9968  3.20       0.68   \n",
              "2                 15.0                  54.0   0.9970  3.26       0.65   \n",
              "3                 17.0                  60.0   0.9980  3.16       0.58   \n",
              "4                 11.0                  34.0   0.9978  3.51       0.56   \n",
              "\n",
              "   alcohol  quality  \n",
              "0      9.4        5  \n",
              "1      9.8        5  \n",
              "2      9.8        5  \n",
              "3      9.8        6  \n",
              "4      9.4        5  "
            ],
            "text/html": [
              "\n",
              "  <div id=\"df-3c7509ae-7b67-49dd-bfba-6b7003e6a93f\" class=\"colab-df-container\">\n",
              "    <div>\n",
              "<style scoped>\n",
              "    .dataframe tbody tr th:only-of-type {\n",
              "        vertical-align: middle;\n",
              "    }\n",
              "\n",
              "    .dataframe tbody tr th {\n",
              "        vertical-align: top;\n",
              "    }\n",
              "\n",
              "    .dataframe thead th {\n",
              "        text-align: right;\n",
              "    }\n",
              "</style>\n",
              "<table border=\"1\" class=\"dataframe\">\n",
              "  <thead>\n",
              "    <tr style=\"text-align: right;\">\n",
              "      <th></th>\n",
              "      <th>fixed acidity</th>\n",
              "      <th>volatile acidity</th>\n",
              "      <th>citric acid</th>\n",
              "      <th>residual sugar</th>\n",
              "      <th>chlorides</th>\n",
              "      <th>free sulfur dioxide</th>\n",
              "      <th>total sulfur dioxide</th>\n",
              "      <th>density</th>\n",
              "      <th>pH</th>\n",
              "      <th>sulphates</th>\n",
              "      <th>alcohol</th>\n",
              "      <th>quality</th>\n",
              "    </tr>\n",
              "  </thead>\n",
              "  <tbody>\n",
              "    <tr>\n",
              "      <th>0</th>\n",
              "      <td>7.4</td>\n",
              "      <td>0.70</td>\n",
              "      <td>0.00</td>\n",
              "      <td>1.9</td>\n",
              "      <td>0.076</td>\n",
              "      <td>11.0</td>\n",
              "      <td>34.0</td>\n",
              "      <td>0.9978</td>\n",
              "      <td>3.51</td>\n",
              "      <td>0.56</td>\n",
              "      <td>9.4</td>\n",
              "      <td>5</td>\n",
              "    </tr>\n",
              "    <tr>\n",
              "      <th>1</th>\n",
              "      <td>7.8</td>\n",
              "      <td>0.88</td>\n",
              "      <td>0.00</td>\n",
              "      <td>2.6</td>\n",
              "      <td>0.098</td>\n",
              "      <td>25.0</td>\n",
              "      <td>67.0</td>\n",
              "      <td>0.9968</td>\n",
              "      <td>3.20</td>\n",
              "      <td>0.68</td>\n",
              "      <td>9.8</td>\n",
              "      <td>5</td>\n",
              "    </tr>\n",
              "    <tr>\n",
              "      <th>2</th>\n",
              "      <td>7.8</td>\n",
              "      <td>0.76</td>\n",
              "      <td>0.04</td>\n",
              "      <td>2.3</td>\n",
              "      <td>0.092</td>\n",
              "      <td>15.0</td>\n",
              "      <td>54.0</td>\n",
              "      <td>0.9970</td>\n",
              "      <td>3.26</td>\n",
              "      <td>0.65</td>\n",
              "      <td>9.8</td>\n",
              "      <td>5</td>\n",
              "    </tr>\n",
              "    <tr>\n",
              "      <th>3</th>\n",
              "      <td>11.2</td>\n",
              "      <td>0.28</td>\n",
              "      <td>0.56</td>\n",
              "      <td>1.9</td>\n",
              "      <td>0.075</td>\n",
              "      <td>17.0</td>\n",
              "      <td>60.0</td>\n",
              "      <td>0.9980</td>\n",
              "      <td>3.16</td>\n",
              "      <td>0.58</td>\n",
              "      <td>9.8</td>\n",
              "      <td>6</td>\n",
              "    </tr>\n",
              "    <tr>\n",
              "      <th>4</th>\n",
              "      <td>7.4</td>\n",
              "      <td>0.70</td>\n",
              "      <td>0.00</td>\n",
              "      <td>1.9</td>\n",
              "      <td>0.076</td>\n",
              "      <td>11.0</td>\n",
              "      <td>34.0</td>\n",
              "      <td>0.9978</td>\n",
              "      <td>3.51</td>\n",
              "      <td>0.56</td>\n",
              "      <td>9.4</td>\n",
              "      <td>5</td>\n",
              "    </tr>\n",
              "  </tbody>\n",
              "</table>\n",
              "</div>\n",
              "    <div class=\"colab-df-buttons\">\n",
              "\n",
              "  <div class=\"colab-df-container\">\n",
              "    <button class=\"colab-df-convert\" onclick=\"convertToInteractive('df-3c7509ae-7b67-49dd-bfba-6b7003e6a93f')\"\n",
              "            title=\"Convert this dataframe to an interactive table.\"\n",
              "            style=\"display:none;\">\n",
              "\n",
              "  <svg xmlns=\"http://www.w3.org/2000/svg\" height=\"24px\" viewBox=\"0 -960 960 960\">\n",
              "    <path d=\"M120-120v-720h720v720H120Zm60-500h600v-160H180v160Zm220 220h160v-160H400v160Zm0 220h160v-160H400v160ZM180-400h160v-160H180v160Zm440 0h160v-160H620v160ZM180-180h160v-160H180v160Zm440 0h160v-160H620v160Z\"/>\n",
              "  </svg>\n",
              "    </button>\n",
              "\n",
              "  <style>\n",
              "    .colab-df-container {\n",
              "      display:flex;\n",
              "      gap: 12px;\n",
              "    }\n",
              "\n",
              "    .colab-df-convert {\n",
              "      background-color: #E8F0FE;\n",
              "      border: none;\n",
              "      border-radius: 50%;\n",
              "      cursor: pointer;\n",
              "      display: none;\n",
              "      fill: #1967D2;\n",
              "      height: 32px;\n",
              "      padding: 0 0 0 0;\n",
              "      width: 32px;\n",
              "    }\n",
              "\n",
              "    .colab-df-convert:hover {\n",
              "      background-color: #E2EBFA;\n",
              "      box-shadow: 0px 1px 2px rgba(60, 64, 67, 0.3), 0px 1px 3px 1px rgba(60, 64, 67, 0.15);\n",
              "      fill: #174EA6;\n",
              "    }\n",
              "\n",
              "    .colab-df-buttons div {\n",
              "      margin-bottom: 4px;\n",
              "    }\n",
              "\n",
              "    [theme=dark] .colab-df-convert {\n",
              "      background-color: #3B4455;\n",
              "      fill: #D2E3FC;\n",
              "    }\n",
              "\n",
              "    [theme=dark] .colab-df-convert:hover {\n",
              "      background-color: #434B5C;\n",
              "      box-shadow: 0px 1px 3px 1px rgba(0, 0, 0, 0.15);\n",
              "      filter: drop-shadow(0px 1px 2px rgba(0, 0, 0, 0.3));\n",
              "      fill: #FFFFFF;\n",
              "    }\n",
              "  </style>\n",
              "\n",
              "    <script>\n",
              "      const buttonEl =\n",
              "        document.querySelector('#df-3c7509ae-7b67-49dd-bfba-6b7003e6a93f button.colab-df-convert');\n",
              "      buttonEl.style.display =\n",
              "        google.colab.kernel.accessAllowed ? 'block' : 'none';\n",
              "\n",
              "      async function convertToInteractive(key) {\n",
              "        const element = document.querySelector('#df-3c7509ae-7b67-49dd-bfba-6b7003e6a93f');\n",
              "        const dataTable =\n",
              "          await google.colab.kernel.invokeFunction('convertToInteractive',\n",
              "                                                    [key], {});\n",
              "        if (!dataTable) return;\n",
              "\n",
              "        const docLinkHtml = 'Like what you see? Visit the ' +\n",
              "          '<a target=\"_blank\" href=https://colab.research.google.com/notebooks/data_table.ipynb>data table notebook</a>'\n",
              "          + ' to learn more about interactive tables.';\n",
              "        element.innerHTML = '';\n",
              "        dataTable['output_type'] = 'display_data';\n",
              "        await google.colab.output.renderOutput(dataTable, element);\n",
              "        const docLink = document.createElement('div');\n",
              "        docLink.innerHTML = docLinkHtml;\n",
              "        element.appendChild(docLink);\n",
              "      }\n",
              "    </script>\n",
              "  </div>\n",
              "\n",
              "\n",
              "<div id=\"df-61e71fd1-e262-4e66-a310-a586daeb477c\">\n",
              "  <button class=\"colab-df-quickchart\" onclick=\"quickchart('df-61e71fd1-e262-4e66-a310-a586daeb477c')\"\n",
              "            title=\"Suggest charts\"\n",
              "            style=\"display:none;\">\n",
              "\n",
              "<svg xmlns=\"http://www.w3.org/2000/svg\" height=\"24px\"viewBox=\"0 0 24 24\"\n",
              "     width=\"24px\">\n",
              "    <g>\n",
              "        <path d=\"M19 3H5c-1.1 0-2 .9-2 2v14c0 1.1.9 2 2 2h14c1.1 0 2-.9 2-2V5c0-1.1-.9-2-2-2zM9 17H7v-7h2v7zm4 0h-2V7h2v10zm4 0h-2v-4h2v4z\"/>\n",
              "    </g>\n",
              "</svg>\n",
              "  </button>\n",
              "\n",
              "<style>\n",
              "  .colab-df-quickchart {\n",
              "      --bg-color: #E8F0FE;\n",
              "      --fill-color: #1967D2;\n",
              "      --hover-bg-color: #E2EBFA;\n",
              "      --hover-fill-color: #174EA6;\n",
              "      --disabled-fill-color: #AAA;\n",
              "      --disabled-bg-color: #DDD;\n",
              "  }\n",
              "\n",
              "  [theme=dark] .colab-df-quickchart {\n",
              "      --bg-color: #3B4455;\n",
              "      --fill-color: #D2E3FC;\n",
              "      --hover-bg-color: #434B5C;\n",
              "      --hover-fill-color: #FFFFFF;\n",
              "      --disabled-bg-color: #3B4455;\n",
              "      --disabled-fill-color: #666;\n",
              "  }\n",
              "\n",
              "  .colab-df-quickchart {\n",
              "    background-color: var(--bg-color);\n",
              "    border: none;\n",
              "    border-radius: 50%;\n",
              "    cursor: pointer;\n",
              "    display: none;\n",
              "    fill: var(--fill-color);\n",
              "    height: 32px;\n",
              "    padding: 0;\n",
              "    width: 32px;\n",
              "  }\n",
              "\n",
              "  .colab-df-quickchart:hover {\n",
              "    background-color: var(--hover-bg-color);\n",
              "    box-shadow: 0 1px 2px rgba(60, 64, 67, 0.3), 0 1px 3px 1px rgba(60, 64, 67, 0.15);\n",
              "    fill: var(--button-hover-fill-color);\n",
              "  }\n",
              "\n",
              "  .colab-df-quickchart-complete:disabled,\n",
              "  .colab-df-quickchart-complete:disabled:hover {\n",
              "    background-color: var(--disabled-bg-color);\n",
              "    fill: var(--disabled-fill-color);\n",
              "    box-shadow: none;\n",
              "  }\n",
              "\n",
              "  .colab-df-spinner {\n",
              "    border: 2px solid var(--fill-color);\n",
              "    border-color: transparent;\n",
              "    border-bottom-color: var(--fill-color);\n",
              "    animation:\n",
              "      spin 1s steps(1) infinite;\n",
              "  }\n",
              "\n",
              "  @keyframes spin {\n",
              "    0% {\n",
              "      border-color: transparent;\n",
              "      border-bottom-color: var(--fill-color);\n",
              "      border-left-color: var(--fill-color);\n",
              "    }\n",
              "    20% {\n",
              "      border-color: transparent;\n",
              "      border-left-color: var(--fill-color);\n",
              "      border-top-color: var(--fill-color);\n",
              "    }\n",
              "    30% {\n",
              "      border-color: transparent;\n",
              "      border-left-color: var(--fill-color);\n",
              "      border-top-color: var(--fill-color);\n",
              "      border-right-color: var(--fill-color);\n",
              "    }\n",
              "    40% {\n",
              "      border-color: transparent;\n",
              "      border-right-color: var(--fill-color);\n",
              "      border-top-color: var(--fill-color);\n",
              "    }\n",
              "    60% {\n",
              "      border-color: transparent;\n",
              "      border-right-color: var(--fill-color);\n",
              "    }\n",
              "    80% {\n",
              "      border-color: transparent;\n",
              "      border-right-color: var(--fill-color);\n",
              "      border-bottom-color: var(--fill-color);\n",
              "    }\n",
              "    90% {\n",
              "      border-color: transparent;\n",
              "      border-bottom-color: var(--fill-color);\n",
              "    }\n",
              "  }\n",
              "</style>\n",
              "\n",
              "  <script>\n",
              "    async function quickchart(key) {\n",
              "      const quickchartButtonEl =\n",
              "        document.querySelector('#' + key + ' button');\n",
              "      quickchartButtonEl.disabled = true;  // To prevent multiple clicks.\n",
              "      quickchartButtonEl.classList.add('colab-df-spinner');\n",
              "      try {\n",
              "        const charts = await google.colab.kernel.invokeFunction(\n",
              "            'suggestCharts', [key], {});\n",
              "      } catch (error) {\n",
              "        console.error('Error during call to suggestCharts:', error);\n",
              "      }\n",
              "      quickchartButtonEl.classList.remove('colab-df-spinner');\n",
              "      quickchartButtonEl.classList.add('colab-df-quickchart-complete');\n",
              "    }\n",
              "    (() => {\n",
              "      let quickchartButtonEl =\n",
              "        document.querySelector('#df-61e71fd1-e262-4e66-a310-a586daeb477c button');\n",
              "      quickchartButtonEl.style.display =\n",
              "        google.colab.kernel.accessAllowed ? 'block' : 'none';\n",
              "    })();\n",
              "  </script>\n",
              "</div>\n",
              "    </div>\n",
              "  </div>\n"
            ]
          },
          "metadata": {},
          "execution_count": 8
        }
      ]
    },
    {
      "cell_type": "markdown",
      "source": [
        "# Separando os dados em features (X) and labels (y)\n",
        "**As features representam os valores (atributos) de um linha e os labels as classificações únicas das linhas**"
      ],
      "metadata": {
        "id": "cV669fSsBlTt"
      }
    },
    {
      "cell_type": "code",
      "source": [
        "# Seleção de features (entradas)\n",
        "X = df.iloc[:,:-1].values #Valores (features)\n",
        "X"
      ],
      "metadata": {
        "id": "tXAlnYioD4nd",
        "colab": {
          "base_uri": "https://localhost:8080/"
        },
        "outputId": "8ecb5caa-07b7-4e76-80da-ce95ad4f88bf"
      },
      "execution_count": null,
      "outputs": [
        {
          "output_type": "execute_result",
          "data": {
            "text/plain": [
              "array([[ 7.4  ,  0.7  ,  0.   , ...,  3.51 ,  0.56 ,  9.4  ],\n",
              "       [ 7.8  ,  0.88 ,  0.   , ...,  3.2  ,  0.68 ,  9.8  ],\n",
              "       [ 7.8  ,  0.76 ,  0.04 , ...,  3.26 ,  0.65 ,  9.8  ],\n",
              "       ...,\n",
              "       [ 6.3  ,  0.51 ,  0.13 , ...,  3.42 ,  0.75 , 11.   ],\n",
              "       [ 5.9  ,  0.645,  0.12 , ...,  3.57 ,  0.71 , 10.2  ],\n",
              "       [ 6.   ,  0.31 ,  0.47 , ...,  3.39 ,  0.66 , 11.   ]])"
            ]
          },
          "metadata": {},
          "execution_count": 4
        }
      ]
    },
    {
      "cell_type": "code",
      "source": [
        "# Seleção da coluna target\n",
        "y = df['quality'] #Espécies (labels)\n",
        "y"
      ],
      "metadata": {
        "execution": {
          "iopub.status.busy": "2021-12-09T18:16:41.864341Z",
          "iopub.execute_input": "2021-12-09T18:16:41.864699Z",
          "iopub.status.idle": "2021-12-09T18:16:41.869048Z",
          "shell.execute_reply.started": "2021-12-09T18:16:41.864658Z",
          "shell.execute_reply": "2021-12-09T18:16:41.868147Z"
        },
        "trusted": true,
        "id": "OZcQWGsBBlTt",
        "colab": {
          "base_uri": "https://localhost:8080/"
        },
        "outputId": "5ded93bd-bbe4-4c03-d7ca-5af9b67a11f9"
      },
      "execution_count": null,
      "outputs": [
        {
          "output_type": "execute_result",
          "data": {
            "text/plain": [
              "0       5\n",
              "1       5\n",
              "2       5\n",
              "3       6\n",
              "4       5\n",
              "       ..\n",
              "1594    5\n",
              "1595    6\n",
              "1596    6\n",
              "1597    5\n",
              "1598    6\n",
              "Name: quality, Length: 1599, dtype: int64"
            ]
          },
          "metadata": {},
          "execution_count": 7
        }
      ]
    },
    {
      "cell_type": "markdown",
      "source": [
        "# Separando dados para treinamento e testes"
      ],
      "metadata": {
        "id": "pwaLYV6aBlTu"
      }
    },
    {
      "cell_type": "code",
      "source": [
        "X_train, X_test, y_train, y_test = train_test_split(X, y, test_size=0.20, random_state=27)"
      ],
      "metadata": {
        "execution": {
          "iopub.status.busy": "2021-12-09T18:16:41.885362Z",
          "iopub.execute_input": "2021-12-09T18:16:41.885916Z",
          "iopub.status.idle": "2021-12-09T18:16:41.89862Z",
          "shell.execute_reply.started": "2021-12-09T18:16:41.885875Z",
          "shell.execute_reply": "2021-12-09T18:16:41.898006Z"
        },
        "trusted": true,
        "id": "MlurHWzHBlTv"
      },
      "execution_count": null,
      "outputs": []
    },
    {
      "cell_type": "code",
      "source": [
        "X_train.shape"
      ],
      "metadata": {
        "id": "VVjO26GGETvg",
        "colab": {
          "base_uri": "https://localhost:8080/"
        },
        "outputId": "0b52a866-ecfa-4a83-9641-7b6f0386ad4f"
      },
      "execution_count": null,
      "outputs": [
        {
          "output_type": "execute_result",
          "data": {
            "text/plain": [
              "(1279, 11)"
            ]
          },
          "metadata": {},
          "execution_count": 11
        }
      ]
    },
    {
      "cell_type": "code",
      "source": [
        "X_test.shape"
      ],
      "metadata": {
        "id": "ff36THeJEWV9",
        "colab": {
          "base_uri": "https://localhost:8080/"
        },
        "outputId": "37657f2c-5952-4f04-a1b8-c88251087625"
      },
      "execution_count": null,
      "outputs": [
        {
          "output_type": "execute_result",
          "data": {
            "text/plain": [
              "(320, 11)"
            ]
          },
          "metadata": {},
          "execution_count": 12
        }
      ]
    },
    {
      "cell_type": "markdown",
      "source": [
        "# Treinando os modelos (método fit)"
      ],
      "metadata": {
        "id": "8_OyqYVuBlTw"
      }
    },
    {
      "cell_type": "code",
      "source": [
        "# https://scikit-learn.org/stable/modules/generated/sklearn.svm.SVC.html\n",
        "SVC_model = SVC()\n",
        "SVC_model.fit(X_train, y_train)"
      ],
      "metadata": {
        "execution": {
          "iopub.status.busy": "2021-12-09T18:16:41.899618Z",
          "iopub.execute_input": "2021-12-09T18:16:41.900288Z",
          "iopub.status.idle": "2021-12-09T18:16:41.915725Z",
          "shell.execute_reply.started": "2021-12-09T18:16:41.900242Z",
          "shell.execute_reply": "2021-12-09T18:16:41.914681Z"
        },
        "trusted": true,
        "id": "oshvv6FaBlTw",
        "colab": {
          "base_uri": "https://localhost:8080/",
          "height": 75
        },
        "outputId": "2e710254-48f2-41a3-e324-a827edae5e03"
      },
      "execution_count": null,
      "outputs": [
        {
          "output_type": "execute_result",
          "data": {
            "text/plain": [
              "SVC()"
            ],
            "text/html": [
              "<style>#sk-container-id-1 {color: black;background-color: white;}#sk-container-id-1 pre{padding: 0;}#sk-container-id-1 div.sk-toggleable {background-color: white;}#sk-container-id-1 label.sk-toggleable__label {cursor: pointer;display: block;width: 100%;margin-bottom: 0;padding: 0.3em;box-sizing: border-box;text-align: center;}#sk-container-id-1 label.sk-toggleable__label-arrow:before {content: \"▸\";float: left;margin-right: 0.25em;color: #696969;}#sk-container-id-1 label.sk-toggleable__label-arrow:hover:before {color: black;}#sk-container-id-1 div.sk-estimator:hover label.sk-toggleable__label-arrow:before {color: black;}#sk-container-id-1 div.sk-toggleable__content {max-height: 0;max-width: 0;overflow: hidden;text-align: left;background-color: #f0f8ff;}#sk-container-id-1 div.sk-toggleable__content pre {margin: 0.2em;color: black;border-radius: 0.25em;background-color: #f0f8ff;}#sk-container-id-1 input.sk-toggleable__control:checked~div.sk-toggleable__content {max-height: 200px;max-width: 100%;overflow: auto;}#sk-container-id-1 input.sk-toggleable__control:checked~label.sk-toggleable__label-arrow:before {content: \"▾\";}#sk-container-id-1 div.sk-estimator input.sk-toggleable__control:checked~label.sk-toggleable__label {background-color: #d4ebff;}#sk-container-id-1 div.sk-label input.sk-toggleable__control:checked~label.sk-toggleable__label {background-color: #d4ebff;}#sk-container-id-1 input.sk-hidden--visually {border: 0;clip: rect(1px 1px 1px 1px);clip: rect(1px, 1px, 1px, 1px);height: 1px;margin: -1px;overflow: hidden;padding: 0;position: absolute;width: 1px;}#sk-container-id-1 div.sk-estimator {font-family: monospace;background-color: #f0f8ff;border: 1px dotted black;border-radius: 0.25em;box-sizing: border-box;margin-bottom: 0.5em;}#sk-container-id-1 div.sk-estimator:hover {background-color: #d4ebff;}#sk-container-id-1 div.sk-parallel-item::after {content: \"\";width: 100%;border-bottom: 1px solid gray;flex-grow: 1;}#sk-container-id-1 div.sk-label:hover label.sk-toggleable__label {background-color: #d4ebff;}#sk-container-id-1 div.sk-serial::before {content: \"\";position: absolute;border-left: 1px solid gray;box-sizing: border-box;top: 0;bottom: 0;left: 50%;z-index: 0;}#sk-container-id-1 div.sk-serial {display: flex;flex-direction: column;align-items: center;background-color: white;padding-right: 0.2em;padding-left: 0.2em;position: relative;}#sk-container-id-1 div.sk-item {position: relative;z-index: 1;}#sk-container-id-1 div.sk-parallel {display: flex;align-items: stretch;justify-content: center;background-color: white;position: relative;}#sk-container-id-1 div.sk-item::before, #sk-container-id-1 div.sk-parallel-item::before {content: \"\";position: absolute;border-left: 1px solid gray;box-sizing: border-box;top: 0;bottom: 0;left: 50%;z-index: -1;}#sk-container-id-1 div.sk-parallel-item {display: flex;flex-direction: column;z-index: 1;position: relative;background-color: white;}#sk-container-id-1 div.sk-parallel-item:first-child::after {align-self: flex-end;width: 50%;}#sk-container-id-1 div.sk-parallel-item:last-child::after {align-self: flex-start;width: 50%;}#sk-container-id-1 div.sk-parallel-item:only-child::after {width: 0;}#sk-container-id-1 div.sk-dashed-wrapped {border: 1px dashed gray;margin: 0 0.4em 0.5em 0.4em;box-sizing: border-box;padding-bottom: 0.4em;background-color: white;}#sk-container-id-1 div.sk-label label {font-family: monospace;font-weight: bold;display: inline-block;line-height: 1.2em;}#sk-container-id-1 div.sk-label-container {text-align: center;}#sk-container-id-1 div.sk-container {/* jupyter's `normalize.less` sets `[hidden] { display: none; }` but bootstrap.min.css set `[hidden] { display: none !important; }` so we also need the `!important` here to be able to override the default hidden behavior on the sphinx rendered scikit-learn.org. See: https://github.com/scikit-learn/scikit-learn/issues/21755 */display: inline-block !important;position: relative;}#sk-container-id-1 div.sk-text-repr-fallback {display: none;}</style><div id=\"sk-container-id-1\" class=\"sk-top-container\"><div class=\"sk-text-repr-fallback\"><pre>SVC()</pre><b>In a Jupyter environment, please rerun this cell to show the HTML representation or trust the notebook. <br />On GitHub, the HTML representation is unable to render, please try loading this page with nbviewer.org.</b></div><div class=\"sk-container\" hidden><div class=\"sk-item\"><div class=\"sk-estimator sk-toggleable\"><input class=\"sk-toggleable__control sk-hidden--visually\" id=\"sk-estimator-id-1\" type=\"checkbox\" checked><label for=\"sk-estimator-id-1\" class=\"sk-toggleable__label sk-toggleable__label-arrow\">SVC</label><div class=\"sk-toggleable__content\"><pre>SVC()</pre></div></div></div></div></div>"
            ]
          },
          "metadata": {},
          "execution_count": 13
        }
      ]
    },
    {
      "cell_type": "code",
      "source": [
        "# https://scikit-learn.org/stable/modules/generated/sklearn.neighbors.KNeighborsClassifier.html\n",
        "KNN_model = KNeighborsClassifier(n_neighbors=5)\n",
        "KNN_model.fit(X_train, y_train)"
      ],
      "metadata": {
        "id": "q6QETgnHEkbJ",
        "colab": {
          "base_uri": "https://localhost:8080/",
          "height": 75
        },
        "outputId": "b86b2c25-8b5a-477a-eb10-de9836834f09"
      },
      "execution_count": null,
      "outputs": [
        {
          "output_type": "execute_result",
          "data": {
            "text/plain": [
              "KNeighborsClassifier()"
            ],
            "text/html": [
              "<style>#sk-container-id-2 {color: black;background-color: white;}#sk-container-id-2 pre{padding: 0;}#sk-container-id-2 div.sk-toggleable {background-color: white;}#sk-container-id-2 label.sk-toggleable__label {cursor: pointer;display: block;width: 100%;margin-bottom: 0;padding: 0.3em;box-sizing: border-box;text-align: center;}#sk-container-id-2 label.sk-toggleable__label-arrow:before {content: \"▸\";float: left;margin-right: 0.25em;color: #696969;}#sk-container-id-2 label.sk-toggleable__label-arrow:hover:before {color: black;}#sk-container-id-2 div.sk-estimator:hover label.sk-toggleable__label-arrow:before {color: black;}#sk-container-id-2 div.sk-toggleable__content {max-height: 0;max-width: 0;overflow: hidden;text-align: left;background-color: #f0f8ff;}#sk-container-id-2 div.sk-toggleable__content pre {margin: 0.2em;color: black;border-radius: 0.25em;background-color: #f0f8ff;}#sk-container-id-2 input.sk-toggleable__control:checked~div.sk-toggleable__content {max-height: 200px;max-width: 100%;overflow: auto;}#sk-container-id-2 input.sk-toggleable__control:checked~label.sk-toggleable__label-arrow:before {content: \"▾\";}#sk-container-id-2 div.sk-estimator input.sk-toggleable__control:checked~label.sk-toggleable__label {background-color: #d4ebff;}#sk-container-id-2 div.sk-label input.sk-toggleable__control:checked~label.sk-toggleable__label {background-color: #d4ebff;}#sk-container-id-2 input.sk-hidden--visually {border: 0;clip: rect(1px 1px 1px 1px);clip: rect(1px, 1px, 1px, 1px);height: 1px;margin: -1px;overflow: hidden;padding: 0;position: absolute;width: 1px;}#sk-container-id-2 div.sk-estimator {font-family: monospace;background-color: #f0f8ff;border: 1px dotted black;border-radius: 0.25em;box-sizing: border-box;margin-bottom: 0.5em;}#sk-container-id-2 div.sk-estimator:hover {background-color: #d4ebff;}#sk-container-id-2 div.sk-parallel-item::after {content: \"\";width: 100%;border-bottom: 1px solid gray;flex-grow: 1;}#sk-container-id-2 div.sk-label:hover label.sk-toggleable__label {background-color: #d4ebff;}#sk-container-id-2 div.sk-serial::before {content: \"\";position: absolute;border-left: 1px solid gray;box-sizing: border-box;top: 0;bottom: 0;left: 50%;z-index: 0;}#sk-container-id-2 div.sk-serial {display: flex;flex-direction: column;align-items: center;background-color: white;padding-right: 0.2em;padding-left: 0.2em;position: relative;}#sk-container-id-2 div.sk-item {position: relative;z-index: 1;}#sk-container-id-2 div.sk-parallel {display: flex;align-items: stretch;justify-content: center;background-color: white;position: relative;}#sk-container-id-2 div.sk-item::before, #sk-container-id-2 div.sk-parallel-item::before {content: \"\";position: absolute;border-left: 1px solid gray;box-sizing: border-box;top: 0;bottom: 0;left: 50%;z-index: -1;}#sk-container-id-2 div.sk-parallel-item {display: flex;flex-direction: column;z-index: 1;position: relative;background-color: white;}#sk-container-id-2 div.sk-parallel-item:first-child::after {align-self: flex-end;width: 50%;}#sk-container-id-2 div.sk-parallel-item:last-child::after {align-self: flex-start;width: 50%;}#sk-container-id-2 div.sk-parallel-item:only-child::after {width: 0;}#sk-container-id-2 div.sk-dashed-wrapped {border: 1px dashed gray;margin: 0 0.4em 0.5em 0.4em;box-sizing: border-box;padding-bottom: 0.4em;background-color: white;}#sk-container-id-2 div.sk-label label {font-family: monospace;font-weight: bold;display: inline-block;line-height: 1.2em;}#sk-container-id-2 div.sk-label-container {text-align: center;}#sk-container-id-2 div.sk-container {/* jupyter's `normalize.less` sets `[hidden] { display: none; }` but bootstrap.min.css set `[hidden] { display: none !important; }` so we also need the `!important` here to be able to override the default hidden behavior on the sphinx rendered scikit-learn.org. See: https://github.com/scikit-learn/scikit-learn/issues/21755 */display: inline-block !important;position: relative;}#sk-container-id-2 div.sk-text-repr-fallback {display: none;}</style><div id=\"sk-container-id-2\" class=\"sk-top-container\"><div class=\"sk-text-repr-fallback\"><pre>KNeighborsClassifier()</pre><b>In a Jupyter environment, please rerun this cell to show the HTML representation or trust the notebook. <br />On GitHub, the HTML representation is unable to render, please try loading this page with nbviewer.org.</b></div><div class=\"sk-container\" hidden><div class=\"sk-item\"><div class=\"sk-estimator sk-toggleable\"><input class=\"sk-toggleable__control sk-hidden--visually\" id=\"sk-estimator-id-2\" type=\"checkbox\" checked><label for=\"sk-estimator-id-2\" class=\"sk-toggleable__label sk-toggleable__label-arrow\">KNeighborsClassifier</label><div class=\"sk-toggleable__content\"><pre>KNeighborsClassifier()</pre></div></div></div></div></div>"
            ]
          },
          "metadata": {},
          "execution_count": 14
        }
      ]
    },
    {
      "cell_type": "markdown",
      "source": [
        "# Testando os modelos (método predict)"
      ],
      "metadata": {
        "id": "BJ13U1LvBlTx"
      }
    },
    {
      "cell_type": "code",
      "source": [
        "# Método Predict\n",
        "SVC_prediction = SVC_model.predict(X_test)"
      ],
      "metadata": {
        "execution": {
          "iopub.status.busy": "2021-12-09T18:16:41.916958Z",
          "iopub.execute_input": "2021-12-09T18:16:41.917183Z",
          "iopub.status.idle": "2021-12-09T18:16:41.92968Z",
          "shell.execute_reply.started": "2021-12-09T18:16:41.917156Z",
          "shell.execute_reply": "2021-12-09T18:16:41.929005Z"
        },
        "trusted": true,
        "id": "XaBkGWAMBlTx"
      },
      "execution_count": null,
      "outputs": []
    },
    {
      "cell_type": "code",
      "source": [
        "SVC_prediction"
      ],
      "metadata": {
        "id": "M3hFyvQgEsID",
        "colab": {
          "base_uri": "https://localhost:8080/"
        },
        "outputId": "60359250-8027-42ef-a18a-f2137ad82745"
      },
      "execution_count": null,
      "outputs": [
        {
          "output_type": "execute_result",
          "data": {
            "text/plain": [
              "array([6, 5, 6, 6, 6, 5, 6, 6, 5, 6, 6, 6, 5, 5, 6, 6, 6, 6, 6, 6, 6, 6,\n",
              "       6, 5, 6, 6, 5, 5, 6, 6, 6, 6, 6, 6, 6, 6, 6, 5, 6, 6, 5, 5, 6, 6,\n",
              "       5, 6, 5, 6, 6, 6, 6, 6, 6, 6, 6, 6, 5, 5, 5, 6, 5, 6, 5, 6, 6, 5,\n",
              "       5, 5, 6, 6, 6, 6, 6, 6, 6, 5, 5, 6, 5, 6, 5, 5, 6, 6, 6, 6, 6, 6,\n",
              "       6, 6, 6, 6, 6, 6, 6, 5, 6, 6, 6, 6, 6, 6, 6, 6, 6, 5, 6, 6, 6, 5,\n",
              "       6, 6, 6, 5, 5, 6, 6, 5, 6, 5, 5, 6, 5, 6, 5, 6, 6, 6, 6, 6, 6, 6,\n",
              "       6, 6, 5, 6, 5, 5, 6, 6, 5, 5, 6, 6, 6, 6, 5, 6, 5, 6, 6, 6, 6, 6,\n",
              "       5, 6, 5, 5, 6, 5, 5, 6, 6, 6, 6, 5, 5, 6, 5, 6, 6, 6, 6, 5, 6, 6,\n",
              "       5, 6, 6, 5, 6, 6, 6, 6, 6, 5, 6, 6, 6, 6, 5, 5, 6, 6, 5, 6, 5, 6,\n",
              "       5, 5, 6, 6, 5, 6, 6, 6, 6, 6, 6, 6, 6, 6, 6, 5, 5, 6, 6, 5, 6, 6,\n",
              "       6, 6, 5, 6, 6, 6, 5, 6, 6, 6, 6, 6, 5, 6, 5, 6, 5, 6, 6, 5, 6, 6,\n",
              "       6, 6, 6, 6, 6, 5, 6, 6, 6, 6, 6, 6, 5, 6, 6, 5, 6, 6, 6, 5, 6, 6,\n",
              "       6, 6, 6, 5, 6, 6, 6, 6, 5, 6, 6, 5, 6, 5, 5, 6, 6, 6, 6, 6, 6, 6,\n",
              "       6, 6, 6, 6, 5, 6, 6, 6, 5, 5, 5, 6, 6, 5, 6, 6, 6, 6, 5, 6, 5, 6,\n",
              "       6, 5, 6, 6, 5, 6, 6, 6, 6, 6, 5, 6])"
            ]
          },
          "metadata": {},
          "execution_count": 16
        }
      ]
    },
    {
      "cell_type": "code",
      "source": [
        "KNN_prediction = KNN_model.predict(X_test)"
      ],
      "metadata": {
        "id": "3Ndd3Jh8EpIE"
      },
      "execution_count": null,
      "outputs": []
    },
    {
      "cell_type": "code",
      "source": [
        "KNN_prediction"
      ],
      "metadata": {
        "id": "em19_NfXEvpJ",
        "colab": {
          "base_uri": "https://localhost:8080/"
        },
        "outputId": "2cb6fa96-87b0-4f63-df9d-e83bb09de722"
      },
      "execution_count": null,
      "outputs": [
        {
          "output_type": "execute_result",
          "data": {
            "text/plain": [
              "array([6, 5, 6, 6, 6, 5, 7, 6, 5, 6, 5, 6, 5, 5, 5, 5, 6, 7, 6, 4, 6, 7,\n",
              "       6, 5, 5, 6, 5, 5, 4, 7, 5, 6, 6, 5, 5, 6, 5, 5, 5, 5, 5, 5, 6, 4,\n",
              "       5, 5, 5, 5, 5, 6, 6, 6, 5, 5, 5, 6, 5, 5, 6, 7, 5, 5, 7, 5, 5, 6,\n",
              "       5, 5, 6, 5, 6, 6, 5, 4, 6, 5, 5, 5, 5, 6, 5, 5, 6, 5, 5, 7, 6, 5,\n",
              "       6, 7, 5, 5, 6, 6, 6, 5, 4, 6, 5, 5, 5, 6, 5, 6, 5, 6, 5, 7, 4, 5,\n",
              "       7, 6, 6, 5, 5, 5, 5, 6, 5, 5, 5, 6, 6, 5, 5, 5, 6, 5, 6, 6, 6, 5,\n",
              "       6, 7, 5, 6, 5, 5, 7, 6, 6, 5, 5, 6, 6, 5, 5, 6, 5, 7, 6, 5, 5, 5,\n",
              "       5, 5, 5, 5, 5, 5, 5, 6, 5, 6, 6, 5, 5, 5, 5, 6, 6, 5, 5, 6, 6, 5,\n",
              "       5, 6, 6, 6, 6, 6, 6, 6, 5, 5, 6, 7, 7, 6, 5, 5, 7, 6, 5, 5, 5, 5,\n",
              "       7, 5, 5, 5, 5, 5, 5, 6, 7, 5, 5, 6, 5, 5, 6, 5, 5, 6, 5, 5, 5, 6,\n",
              "       7, 5, 6, 6, 6, 6, 5, 5, 7, 6, 5, 6, 5, 6, 6, 5, 5, 6, 6, 5, 5, 6,\n",
              "       6, 6, 5, 5, 5, 5, 5, 5, 6, 7, 6, 5, 5, 5, 6, 5, 7, 6, 7, 5, 7, 6,\n",
              "       5, 6, 5, 5, 6, 6, 5, 6, 5, 5, 6, 5, 5, 5, 5, 6, 5, 4, 7, 5, 4, 6,\n",
              "       5, 7, 5, 5, 5, 5, 6, 6, 5, 5, 6, 5, 5, 5, 5, 3, 5, 6, 5, 7, 5, 6,\n",
              "       6, 4, 5, 6, 5, 7, 5, 5, 5, 5, 6, 6])"
            ]
          },
          "metadata": {},
          "execution_count": 18
        }
      ]
    },
    {
      "cell_type": "markdown",
      "source": [
        "# Mostrando resultados"
      ],
      "metadata": {
        "id": "NtHKbC_4BlTy"
      }
    },
    {
      "cell_type": "markdown",
      "source": [
        "## Algoritmo SVC"
      ],
      "metadata": {
        "id": "XLGtTu34BlTy"
      }
    },
    {
      "cell_type": "markdown",
      "source": [
        "### Acurácia (accuracy)"
      ],
      "metadata": {
        "id": "K1KMpFyKBlTy"
      }
    },
    {
      "cell_type": "code",
      "source": [
        "acuracia_svc = (accuracy_score(SVC_prediction, y_test)*100)"
      ],
      "metadata": {
        "execution": {
          "iopub.status.busy": "2021-12-09T18:16:41.930686Z",
          "iopub.execute_input": "2021-12-09T18:16:41.930959Z",
          "iopub.status.idle": "2021-12-09T18:16:41.9406Z",
          "shell.execute_reply.started": "2021-12-09T18:16:41.93093Z",
          "shell.execute_reply": "2021-12-09T18:16:41.939703Z"
        },
        "trusted": true,
        "id": "G3mMjartBlTz"
      },
      "execution_count": null,
      "outputs": []
    },
    {
      "cell_type": "code",
      "source": [
        "print(f'Acurácia do modelo SVC: {acuracia_svc: .2f} %')"
      ],
      "metadata": {
        "id": "V1L-wTrjFDjY",
        "colab": {
          "base_uri": "https://localhost:8080/"
        },
        "outputId": "223325e8-8657-466e-bb2f-0e170b96b588"
      },
      "execution_count": null,
      "outputs": [
        {
          "output_type": "stream",
          "name": "stdout",
          "text": [
            "Acurácia do modelo SVC:  53.44 %\n"
          ]
        }
      ]
    },
    {
      "cell_type": "markdown",
      "source": [
        "### Confusion Matrix"
      ],
      "metadata": {
        "id": "fVXEFIsPBlT0"
      }
    },
    {
      "cell_type": "code",
      "source": [
        "print(confusion_matrix(SVC_prediction, y_test))"
      ],
      "metadata": {
        "execution": {
          "iopub.status.busy": "2021-12-09T18:16:41.942133Z",
          "iopub.execute_input": "2021-12-09T18:16:41.943078Z",
          "iopub.status.idle": "2021-12-09T18:16:41.960191Z",
          "shell.execute_reply.started": "2021-12-09T18:16:41.943037Z",
          "shell.execute_reply": "2021-12-09T18:16:41.959242Z"
        },
        "trusted": true,
        "id": "tY2YFamHBlT0",
        "colab": {
          "base_uri": "https://localhost:8080/"
        },
        "outputId": "2d3cb535-69a6-49ad-e4b6-fa1f67051d1a"
      },
      "execution_count": null,
      "outputs": [
        {
          "output_type": "stream",
          "name": "stdout",
          "text": [
            "[[  0   0   0   0   0   0]\n",
            " [  0   0   0   0   0   0]\n",
            " [  0   0  61  24   4   1]\n",
            " [  3   3  74 110  37   3]\n",
            " [  0   0   0   0   0   0]\n",
            " [  0   0   0   0   0   0]]\n"
          ]
        }
      ]
    },
    {
      "cell_type": "markdown",
      "source": [
        "### Relatório de classificação"
      ],
      "metadata": {
        "id": "zHVEN_R8BlT1"
      }
    },
    {
      "cell_type": "code",
      "source": [
        "print(classification_report(SVC_prediction, y_test))"
      ],
      "metadata": {
        "execution": {
          "iopub.status.busy": "2021-12-09T18:16:41.96319Z",
          "iopub.execute_input": "2021-12-09T18:16:41.963649Z",
          "iopub.status.idle": "2021-12-09T18:16:41.976234Z",
          "shell.execute_reply.started": "2021-12-09T18:16:41.96361Z",
          "shell.execute_reply": "2021-12-09T18:16:41.975288Z"
        },
        "trusted": true,
        "id": "WIM2FB3NBlT1",
        "colab": {
          "base_uri": "https://localhost:8080/"
        },
        "outputId": "9eafdfa2-19ce-418e-a9f3-130382efab95"
      },
      "execution_count": null,
      "outputs": [
        {
          "output_type": "stream",
          "name": "stdout",
          "text": [
            "              precision    recall  f1-score   support\n",
            "\n",
            "           3       0.00      0.00      0.00         0\n",
            "           4       0.00      0.00      0.00         0\n",
            "           5       0.45      0.68      0.54        90\n",
            "           6       0.82      0.48      0.60       230\n",
            "           7       0.00      0.00      0.00         0\n",
            "           8       0.00      0.00      0.00         0\n",
            "\n",
            "    accuracy                           0.53       320\n",
            "   macro avg       0.21      0.19      0.19       320\n",
            "weighted avg       0.72      0.53      0.59       320\n",
            "\n"
          ]
        },
        {
          "output_type": "stream",
          "name": "stderr",
          "text": [
            "/usr/local/lib/python3.10/dist-packages/sklearn/metrics/_classification.py:1344: UndefinedMetricWarning: Recall and F-score are ill-defined and being set to 0.0 in labels with no true samples. Use `zero_division` parameter to control this behavior.\n",
            "  _warn_prf(average, modifier, msg_start, len(result))\n",
            "/usr/local/lib/python3.10/dist-packages/sklearn/metrics/_classification.py:1344: UndefinedMetricWarning: Recall and F-score are ill-defined and being set to 0.0 in labels with no true samples. Use `zero_division` parameter to control this behavior.\n",
            "  _warn_prf(average, modifier, msg_start, len(result))\n",
            "/usr/local/lib/python3.10/dist-packages/sklearn/metrics/_classification.py:1344: UndefinedMetricWarning: Recall and F-score are ill-defined and being set to 0.0 in labels with no true samples. Use `zero_division` parameter to control this behavior.\n",
            "  _warn_prf(average, modifier, msg_start, len(result))\n"
          ]
        }
      ]
    },
    {
      "cell_type": "markdown",
      "source": [
        "## Algoritmo KNN"
      ],
      "metadata": {
        "id": "2vLEDoSlBlT2"
      }
    },
    {
      "cell_type": "markdown",
      "source": [
        "### Acurácia (accuracy)\n",
        "*número de previsões corretas dividido pela quantidade de testes*"
      ],
      "metadata": {
        "id": "BGIxPeIXBlT2"
      }
    },
    {
      "cell_type": "code",
      "source": [
        "acuracia_knn = (accuracy_score(KNN_prediction, y_test)*100)"
      ],
      "metadata": {
        "execution": {
          "iopub.status.busy": "2021-12-09T18:16:41.977618Z",
          "iopub.execute_input": "2021-12-09T18:16:41.978293Z",
          "iopub.status.idle": "2021-12-09T18:16:41.985853Z",
          "shell.execute_reply.started": "2021-12-09T18:16:41.97825Z",
          "shell.execute_reply": "2021-12-09T18:16:41.985179Z"
        },
        "trusted": true,
        "id": "PXJuZH2JBlT2"
      },
      "execution_count": null,
      "outputs": []
    },
    {
      "cell_type": "code",
      "source": [
        "print(f'Acurácia do modelo KNN: {acuracia_knn: .2f} %')"
      ],
      "metadata": {
        "id": "oVCEJwJ5GT7W",
        "colab": {
          "base_uri": "https://localhost:8080/"
        },
        "outputId": "35741e6e-2dae-4319-83e2-4f5c8a82b779"
      },
      "execution_count": null,
      "outputs": [
        {
          "output_type": "stream",
          "name": "stdout",
          "text": [
            "Acurácia do modelo KNN:  55.94 %\n"
          ]
        }
      ]
    }
  ]
}